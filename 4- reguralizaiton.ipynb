{
 "cells": [
  {
   "cell_type": "code",
   "execution_count": 1,
   "id": "e022d4b0",
   "metadata": {},
   "outputs": [],
   "source": [
    "import numpy as np\n",
    "import pandas as pd\n",
    "import matplotlib.pyplot as plt\n",
    "import seaborn as sns"
   ]
  },
  {
   "cell_type": "code",
   "execution_count": 2,
   "id": "773dade2",
   "metadata": {},
   "outputs": [
    {
     "data": {
      "text/html": [
       "<div>\n",
       "<style scoped>\n",
       "    .dataframe tbody tr th:only-of-type {\n",
       "        vertical-align: middle;\n",
       "    }\n",
       "\n",
       "    .dataframe tbody tr th {\n",
       "        vertical-align: top;\n",
       "    }\n",
       "\n",
       "    .dataframe thead th {\n",
       "        text-align: right;\n",
       "    }\n",
       "</style>\n",
       "<table border=\"1\" class=\"dataframe\">\n",
       "  <thead>\n",
       "    <tr style=\"text-align: right;\">\n",
       "      <th></th>\n",
       "      <th>age</th>\n",
       "      <th>sex</th>\n",
       "      <th>bmi</th>\n",
       "      <th>children</th>\n",
       "      <th>smoker</th>\n",
       "      <th>region</th>\n",
       "      <th>expenses</th>\n",
       "    </tr>\n",
       "  </thead>\n",
       "  <tbody>\n",
       "    <tr>\n",
       "      <th>0</th>\n",
       "      <td>19.0</td>\n",
       "      <td>female</td>\n",
       "      <td>27.9</td>\n",
       "      <td>0.0</td>\n",
       "      <td>yes</td>\n",
       "      <td>southwest</td>\n",
       "      <td>16884.92</td>\n",
       "    </tr>\n",
       "    <tr>\n",
       "      <th>1</th>\n",
       "      <td>18.0</td>\n",
       "      <td>male</td>\n",
       "      <td>33.8</td>\n",
       "      <td>1.0</td>\n",
       "      <td>no</td>\n",
       "      <td>southeast</td>\n",
       "      <td>1725.55</td>\n",
       "    </tr>\n",
       "    <tr>\n",
       "      <th>2</th>\n",
       "      <td>28.0</td>\n",
       "      <td>male</td>\n",
       "      <td>33.0</td>\n",
       "      <td>3.0</td>\n",
       "      <td>no</td>\n",
       "      <td>southeast</td>\n",
       "      <td>4449.46</td>\n",
       "    </tr>\n",
       "    <tr>\n",
       "      <th>3</th>\n",
       "      <td>33.0</td>\n",
       "      <td>male</td>\n",
       "      <td>22.7</td>\n",
       "      <td>0.0</td>\n",
       "      <td>no</td>\n",
       "      <td>northwest</td>\n",
       "      <td>21984.47</td>\n",
       "    </tr>\n",
       "    <tr>\n",
       "      <th>4</th>\n",
       "      <td>32.0</td>\n",
       "      <td>male</td>\n",
       "      <td>28.9</td>\n",
       "      <td>0.0</td>\n",
       "      <td>no</td>\n",
       "      <td>northwest</td>\n",
       "      <td>3866.86</td>\n",
       "    </tr>\n",
       "  </tbody>\n",
       "</table>\n",
       "</div>"
      ],
      "text/plain": [
       "    age     sex   bmi  children smoker     region  expenses\n",
       "0  19.0  female  27.9       0.0    yes  southwest  16884.92\n",
       "1  18.0    male  33.8       1.0     no  southeast   1725.55\n",
       "2  28.0    male  33.0       3.0     no  southeast   4449.46\n",
       "3  33.0    male  22.7       0.0     no  northwest  21984.47\n",
       "4  32.0    male  28.9       0.0     no  northwest   3866.86"
      ]
     },
     "execution_count": 2,
     "metadata": {},
     "output_type": "execute_result"
    }
   ],
   "source": [
    "df=pd.read_excel(r\"C:\\Users\\usama\\Downloads\\insurance.xlsx\")\n",
    "df.head()\n"
   ]
  },
  {
   "cell_type": "code",
   "execution_count": 3,
   "id": "9c15b9b9",
   "metadata": {},
   "outputs": [
    {
     "data": {
      "text/plain": [
       "(1338, 7)"
      ]
     },
     "execution_count": 3,
     "metadata": {},
     "output_type": "execute_result"
    }
   ],
   "source": [
    "df.shape"
   ]
  },
  {
   "cell_type": "code",
   "execution_count": 4,
   "id": "7954ff0c",
   "metadata": {},
   "outputs": [
    {
     "name": "stdout",
     "output_type": "stream",
     "text": [
      "<class 'pandas.core.frame.DataFrame'>\n",
      "RangeIndex: 1338 entries, 0 to 1337\n",
      "Data columns (total 7 columns):\n",
      " #   Column    Non-Null Count  Dtype  \n",
      "---  ------    --------------  -----  \n",
      " 0   age       1338 non-null   float64\n",
      " 1   sex       1338 non-null   object \n",
      " 2   bmi       1338 non-null   float64\n",
      " 3   children  1338 non-null   float64\n",
      " 4   smoker    1338 non-null   object \n",
      " 5   region    1338 non-null   object \n",
      " 6   expenses  1338 non-null   float64\n",
      "dtypes: float64(4), object(3)\n",
      "memory usage: 73.3+ KB\n"
     ]
    }
   ],
   "source": [
    "df.info()"
   ]
  },
  {
   "cell_type": "code",
   "execution_count": null,
   "id": "a90ac6bf",
   "metadata": {},
   "outputs": [],
   "source": []
  },
  {
   "cell_type": "code",
   "execution_count": 5,
   "id": "9665b481",
   "metadata": {},
   "outputs": [
    {
     "name": "stdout",
     "output_type": "stream",
     "text": [
      "['sex', 'smoker', 'region']\n",
      "['age', 'bmi', 'children', 'expenses']\n",
      "[]\n"
     ]
    }
   ],
   "source": [
    "categorical=[]\n",
    "continous=[]\n",
    "check=[]\n",
    "d_types=dict(df.dtypes)\n",
    "for name, type in d_types.items():\n",
    "    if str(type)== 'object':\n",
    "        categorical.append(name)\n",
    "    elif str(type)== 'float64':\n",
    "        continous.append(name)\n",
    "    else:\n",
    "        check.append(name)\n",
    "print(categorical)\n",
    "print(continous)\n",
    "print(check)"
   ]
  },
  {
   "cell_type": "code",
   "execution_count": 6,
   "id": "0b69431c",
   "metadata": {},
   "outputs": [],
   "source": [
    "continous=['bmi', 'age', 'expenses']\n",
    "discrete=['sex','smoker','region','children']"
   ]
  },
  {
   "cell_type": "code",
   "execution_count": null,
   "id": "ea90c6e3",
   "metadata": {},
   "outputs": [],
   "source": []
  },
  {
   "cell_type": "code",
   "execution_count": 7,
   "id": "c651239a",
   "metadata": {},
   "outputs": [
    {
     "data": {
      "text/html": [
       "<div>\n",
       "<style scoped>\n",
       "    .dataframe tbody tr th:only-of-type {\n",
       "        vertical-align: middle;\n",
       "    }\n",
       "\n",
       "    .dataframe tbody tr th {\n",
       "        vertical-align: top;\n",
       "    }\n",
       "\n",
       "    .dataframe thead th {\n",
       "        text-align: right;\n",
       "    }\n",
       "</style>\n",
       "<table border=\"1\" class=\"dataframe\">\n",
       "  <thead>\n",
       "    <tr style=\"text-align: right;\">\n",
       "      <th></th>\n",
       "      <th>bmi</th>\n",
       "      <th>age</th>\n",
       "      <th>expenses</th>\n",
       "    </tr>\n",
       "  </thead>\n",
       "  <tbody>\n",
       "    <tr>\n",
       "      <th>count</th>\n",
       "      <td>1338.000000</td>\n",
       "      <td>1338.000000</td>\n",
       "      <td>1338.000000</td>\n",
       "    </tr>\n",
       "    <tr>\n",
       "      <th>mean</th>\n",
       "      <td>30.665471</td>\n",
       "      <td>39.207025</td>\n",
       "      <td>13270.422414</td>\n",
       "    </tr>\n",
       "    <tr>\n",
       "      <th>std</th>\n",
       "      <td>6.098382</td>\n",
       "      <td>14.049960</td>\n",
       "      <td>12110.011240</td>\n",
       "    </tr>\n",
       "    <tr>\n",
       "      <th>min</th>\n",
       "      <td>16.000000</td>\n",
       "      <td>18.000000</td>\n",
       "      <td>1121.870000</td>\n",
       "    </tr>\n",
       "    <tr>\n",
       "      <th>25%</th>\n",
       "      <td>26.300000</td>\n",
       "      <td>27.000000</td>\n",
       "      <td>4740.287500</td>\n",
       "    </tr>\n",
       "    <tr>\n",
       "      <th>50%</th>\n",
       "      <td>30.400000</td>\n",
       "      <td>39.000000</td>\n",
       "      <td>9382.030000</td>\n",
       "    </tr>\n",
       "    <tr>\n",
       "      <th>75%</th>\n",
       "      <td>34.700000</td>\n",
       "      <td>51.000000</td>\n",
       "      <td>16639.915000</td>\n",
       "    </tr>\n",
       "    <tr>\n",
       "      <th>max</th>\n",
       "      <td>53.100000</td>\n",
       "      <td>64.000000</td>\n",
       "      <td>63770.430000</td>\n",
       "    </tr>\n",
       "  </tbody>\n",
       "</table>\n",
       "</div>"
      ],
      "text/plain": [
       "               bmi          age      expenses\n",
       "count  1338.000000  1338.000000   1338.000000\n",
       "mean     30.665471    39.207025  13270.422414\n",
       "std       6.098382    14.049960  12110.011240\n",
       "min      16.000000    18.000000   1121.870000\n",
       "25%      26.300000    27.000000   4740.287500\n",
       "50%      30.400000    39.000000   9382.030000\n",
       "75%      34.700000    51.000000  16639.915000\n",
       "max      53.100000    64.000000  63770.430000"
      ]
     },
     "execution_count": 7,
     "metadata": {},
     "output_type": "execute_result"
    }
   ],
   "source": [
    "df[continous].describe()"
   ]
  },
  {
   "cell_type": "code",
   "execution_count": 8,
   "id": "52210112",
   "metadata": {},
   "outputs": [
    {
     "data": {
      "text/html": [
       "<div>\n",
       "<style scoped>\n",
       "    .dataframe tbody tr th:only-of-type {\n",
       "        vertical-align: middle;\n",
       "    }\n",
       "\n",
       "    .dataframe tbody tr th {\n",
       "        vertical-align: top;\n",
       "    }\n",
       "\n",
       "    .dataframe thead th {\n",
       "        text-align: right;\n",
       "    }\n",
       "</style>\n",
       "<table border=\"1\" class=\"dataframe\">\n",
       "  <thead>\n",
       "    <tr style=\"text-align: right;\">\n",
       "      <th></th>\n",
       "      <th>bmi</th>\n",
       "      <th>age</th>\n",
       "      <th>expenses</th>\n",
       "    </tr>\n",
       "  </thead>\n",
       "  <tbody>\n",
       "    <tr>\n",
       "      <th>bmi</th>\n",
       "      <td>1.000000</td>\n",
       "      <td>0.109341</td>\n",
       "      <td>0.198576</td>\n",
       "    </tr>\n",
       "    <tr>\n",
       "      <th>age</th>\n",
       "      <td>0.109341</td>\n",
       "      <td>1.000000</td>\n",
       "      <td>0.299008</td>\n",
       "    </tr>\n",
       "    <tr>\n",
       "      <th>expenses</th>\n",
       "      <td>0.198576</td>\n",
       "      <td>0.299008</td>\n",
       "      <td>1.000000</td>\n",
       "    </tr>\n",
       "  </tbody>\n",
       "</table>\n",
       "</div>"
      ],
      "text/plain": [
       "               bmi       age  expenses\n",
       "bmi       1.000000  0.109341  0.198576\n",
       "age       0.109341  1.000000  0.299008\n",
       "expenses  0.198576  0.299008  1.000000"
      ]
     },
     "execution_count": 8,
     "metadata": {},
     "output_type": "execute_result"
    }
   ],
   "source": [
    "df[continous].corr()"
   ]
  },
  {
   "cell_type": "code",
   "execution_count": 9,
   "id": "d0237166",
   "metadata": {},
   "outputs": [
    {
     "data": {
      "text/plain": [
       "age         0\n",
       "sex         0\n",
       "bmi         0\n",
       "children    0\n",
       "smoker      0\n",
       "region      0\n",
       "expenses    0\n",
       "dtype: int64"
      ]
     },
     "execution_count": 9,
     "metadata": {},
     "output_type": "execute_result"
    }
   ],
   "source": [
    "df.isnull().sum()"
   ]
  },
  {
   "cell_type": "code",
   "execution_count": 10,
   "id": "d59ffb74",
   "metadata": {},
   "outputs": [],
   "source": [
    "df.drop('region',axis=1,inplace=True)"
   ]
  },
  {
   "cell_type": "code",
   "execution_count": 11,
   "id": "f3555df0",
   "metadata": {},
   "outputs": [],
   "source": [
    "df.drop_duplicates(inplace=True)"
   ]
  },
  {
   "cell_type": "code",
   "execution_count": 12,
   "id": "a218b1e0",
   "metadata": {},
   "outputs": [
    {
     "data": {
      "text/plain": [
       "array(['female', 'male'], dtype=object)"
      ]
     },
     "execution_count": 12,
     "metadata": {},
     "output_type": "execute_result"
    }
   ],
   "source": [
    "df['sex'].unique()"
   ]
  },
  {
   "cell_type": "code",
   "execution_count": 13,
   "id": "1dddaf3c",
   "metadata": {},
   "outputs": [
    {
     "data": {
      "text/plain": [
       "array(['yes', 'no'], dtype=object)"
      ]
     },
     "execution_count": 13,
     "metadata": {},
     "output_type": "execute_result"
    }
   ],
   "source": [
    "df['smoker'].unique()"
   ]
  },
  {
   "cell_type": "code",
   "execution_count": 14,
   "id": "f1db6757",
   "metadata": {},
   "outputs": [],
   "source": [
    "df['sex'].replace({'female':0 ,'male':1}, inplace=True)\n",
    "df['smoker'].replace({'no':0 ,'yes':1}, inplace=True)"
   ]
  },
  {
   "cell_type": "code",
   "execution_count": 15,
   "id": "28f5a48e",
   "metadata": {},
   "outputs": [
    {
     "data": {
      "text/html": [
       "<div>\n",
       "<style scoped>\n",
       "    .dataframe tbody tr th:only-of-type {\n",
       "        vertical-align: middle;\n",
       "    }\n",
       "\n",
       "    .dataframe tbody tr th {\n",
       "        vertical-align: top;\n",
       "    }\n",
       "\n",
       "    .dataframe thead th {\n",
       "        text-align: right;\n",
       "    }\n",
       "</style>\n",
       "<table border=\"1\" class=\"dataframe\">\n",
       "  <thead>\n",
       "    <tr style=\"text-align: right;\">\n",
       "      <th></th>\n",
       "      <th>age</th>\n",
       "      <th>sex</th>\n",
       "      <th>bmi</th>\n",
       "      <th>children</th>\n",
       "      <th>smoker</th>\n",
       "      <th>expenses</th>\n",
       "    </tr>\n",
       "  </thead>\n",
       "  <tbody>\n",
       "    <tr>\n",
       "      <th>0</th>\n",
       "      <td>19.0</td>\n",
       "      <td>0</td>\n",
       "      <td>27.9</td>\n",
       "      <td>0.0</td>\n",
       "      <td>1</td>\n",
       "      <td>16884.92</td>\n",
       "    </tr>\n",
       "    <tr>\n",
       "      <th>1</th>\n",
       "      <td>18.0</td>\n",
       "      <td>1</td>\n",
       "      <td>33.8</td>\n",
       "      <td>1.0</td>\n",
       "      <td>0</td>\n",
       "      <td>1725.55</td>\n",
       "    </tr>\n",
       "    <tr>\n",
       "      <th>2</th>\n",
       "      <td>28.0</td>\n",
       "      <td>1</td>\n",
       "      <td>33.0</td>\n",
       "      <td>3.0</td>\n",
       "      <td>0</td>\n",
       "      <td>4449.46</td>\n",
       "    </tr>\n",
       "    <tr>\n",
       "      <th>3</th>\n",
       "      <td>33.0</td>\n",
       "      <td>1</td>\n",
       "      <td>22.7</td>\n",
       "      <td>0.0</td>\n",
       "      <td>0</td>\n",
       "      <td>21984.47</td>\n",
       "    </tr>\n",
       "    <tr>\n",
       "      <th>4</th>\n",
       "      <td>32.0</td>\n",
       "      <td>1</td>\n",
       "      <td>28.9</td>\n",
       "      <td>0.0</td>\n",
       "      <td>0</td>\n",
       "      <td>3866.86</td>\n",
       "    </tr>\n",
       "    <tr>\n",
       "      <th>...</th>\n",
       "      <td>...</td>\n",
       "      <td>...</td>\n",
       "      <td>...</td>\n",
       "      <td>...</td>\n",
       "      <td>...</td>\n",
       "      <td>...</td>\n",
       "    </tr>\n",
       "    <tr>\n",
       "      <th>1333</th>\n",
       "      <td>50.0</td>\n",
       "      <td>1</td>\n",
       "      <td>31.0</td>\n",
       "      <td>3.0</td>\n",
       "      <td>0</td>\n",
       "      <td>10600.55</td>\n",
       "    </tr>\n",
       "    <tr>\n",
       "      <th>1334</th>\n",
       "      <td>18.0</td>\n",
       "      <td>0</td>\n",
       "      <td>31.9</td>\n",
       "      <td>0.0</td>\n",
       "      <td>0</td>\n",
       "      <td>2205.98</td>\n",
       "    </tr>\n",
       "    <tr>\n",
       "      <th>1335</th>\n",
       "      <td>18.0</td>\n",
       "      <td>0</td>\n",
       "      <td>36.9</td>\n",
       "      <td>0.0</td>\n",
       "      <td>0</td>\n",
       "      <td>1629.83</td>\n",
       "    </tr>\n",
       "    <tr>\n",
       "      <th>1336</th>\n",
       "      <td>21.0</td>\n",
       "      <td>0</td>\n",
       "      <td>25.8</td>\n",
       "      <td>0.0</td>\n",
       "      <td>0</td>\n",
       "      <td>2007.95</td>\n",
       "    </tr>\n",
       "    <tr>\n",
       "      <th>1337</th>\n",
       "      <td>61.0</td>\n",
       "      <td>0</td>\n",
       "      <td>29.1</td>\n",
       "      <td>0.0</td>\n",
       "      <td>1</td>\n",
       "      <td>29141.36</td>\n",
       "    </tr>\n",
       "  </tbody>\n",
       "</table>\n",
       "<p>1337 rows × 6 columns</p>\n",
       "</div>"
      ],
      "text/plain": [
       "       age  sex   bmi  children  smoker  expenses\n",
       "0     19.0    0  27.9       0.0       1  16884.92\n",
       "1     18.0    1  33.8       1.0       0   1725.55\n",
       "2     28.0    1  33.0       3.0       0   4449.46\n",
       "3     33.0    1  22.7       0.0       0  21984.47\n",
       "4     32.0    1  28.9       0.0       0   3866.86\n",
       "...    ...  ...   ...       ...     ...       ...\n",
       "1333  50.0    1  31.0       3.0       0  10600.55\n",
       "1334  18.0    0  31.9       0.0       0   2205.98\n",
       "1335  18.0    0  36.9       0.0       0   1629.83\n",
       "1336  21.0    0  25.8       0.0       0   2007.95\n",
       "1337  61.0    0  29.1       0.0       1  29141.36\n",
       "\n",
       "[1337 rows x 6 columns]"
      ]
     },
     "execution_count": 15,
     "metadata": {},
     "output_type": "execute_result"
    }
   ],
   "source": [
    "df"
   ]
  },
  {
   "cell_type": "code",
   "execution_count": 16,
   "id": "22dcd56d",
   "metadata": {},
   "outputs": [],
   "source": [
    "X=df.drop('expenses', axis=1)\n",
    "y=df['expenses']"
   ]
  },
  {
   "cell_type": "code",
   "execution_count": 17,
   "id": "96b8582f",
   "metadata": {},
   "outputs": [],
   "source": [
    "from sklearn.model_selection import train_test_split\n",
    "X_train, X_test, y_train,y_test=train_test_split(X,y,test_size=0.2, random_state=9)"
   ]
  },
  {
   "cell_type": "code",
   "execution_count": 18,
   "id": "e6886b7c",
   "metadata": {},
   "outputs": [
    {
     "name": "stdout",
     "output_type": "stream",
     "text": [
      "intercept: -12153.909094452427\n",
      "coef: [  264.54965338  -117.09531679   318.45932552   411.37847149\n",
      " 23981.56471336]\n",
      "R2_train: 0.7593835903914579\n",
      "R2_test: 0.7006013036702504\n",
      "cross validation score: 0.7465344512602905\n"
     ]
    }
   ],
   "source": [
    "#lasso regression with defailt parameters\n",
    "\n",
    "from sklearn.linear_model import Lasso\n",
    "lasso_base=Lasso()\n",
    "lasso_base.fit(X_train,y_train)\n",
    "print('intercept:', lasso_base.intercept_)\n",
    "print('coef:', lasso_base.coef_)\n",
    "\n",
    "train_prediction= lasso_base.predict(X_train)\n",
    "test_prediction=lasso_base.predict(X_test)\n",
    "\n",
    "print('R2_train:', lasso_base.score(X_train, y_train))\n",
    "print('R2_test:', lasso_base.score(X_test, y_test))\n",
    "\n",
    "from sklearn.model_selection import cross_val_score\n",
    "print('cross validation score:', cross_val_score(lasso_base,X,y,cv=5).mean())\n"
   ]
  },
  {
   "cell_type": "code",
   "execution_count": 19,
   "id": "78926933",
   "metadata": {},
   "outputs": [
    {
     "data": {
      "text/plain": [
       "{'alpha': 60}"
      ]
     },
     "execution_count": 19,
     "metadata": {},
     "output_type": "execute_result"
    }
   ],
   "source": [
    "#hyperparameter tuning\n",
    "from sklearn.model_selection import GridSearchCV\n",
    "\n",
    "#model\n",
    "estimator= Lasso()\n",
    "\n",
    "#parameter\n",
    "param_grid={'alpha':list(range(1,70))}\n",
    " #identifying the best value of the parameter within given values for the given data\n",
    "\n",
    "model_hp=GridSearchCV( estimator,param_grid,cv=5,scoring='r2')\n",
    "model_hp.fit(X_train,y_train)\n",
    "model_hp.best_params_"
   ]
  },
  {
   "cell_type": "code",
   "execution_count": 20,
   "id": "3728e671",
   "metadata": {},
   "outputs": [
    {
     "name": "stdout",
     "output_type": "stream",
     "text": [
      "intercept: -12045.192067679147\n",
      "coef: [  264.37213484    -0.           317.0408608    373.19599922\n",
      " 23621.90440143]\n",
      "R2_train: 0.7592042059376202\n",
      "R2_test: 0.7008928970688789\n",
      "cross validation score: 0.7466813254014273\n"
     ]
    }
   ],
   "source": [
    "# rebuild lasso regression with best parameters\n",
    "\n",
    "from sklearn.linear_model import Lasso\n",
    "lasso_base=Lasso(alpha=60)\n",
    "lasso_base.fit(X_train,y_train)\n",
    "print('intercept:', lasso_base.intercept_)\n",
    "print('coef:', lasso_base.coef_)\n",
    "\n",
    "train_prediction= lasso_base.predict(X_train)\n",
    "test_prediction=lasso_base.predict(X_test)\n",
    "\n",
    "print('R2_train:', lasso_base.score(X_train, y_train))\n",
    "print('R2_test:', lasso_base.score(X_test, y_test))\n",
    "\n",
    "from sklearn.model_selection import cross_val_score\n",
    "print('cross validation score:', cross_val_score(lasso_base,X,y,cv=5).mean())\n"
   ]
  },
  {
   "cell_type": "code",
   "execution_count": 21,
   "id": "dc261f22",
   "metadata": {},
   "outputs": [],
   "source": [
    "#the second coef is zero which means the gender feature is not an important column"
   ]
  },
  {
   "cell_type": "code",
   "execution_count": 22,
   "id": "44831b7c",
   "metadata": {},
   "outputs": [
    {
     "name": "stdout",
     "output_type": "stream",
     "text": [
      "intercept: -12045.187463841945\n",
      "coef: [  264.37194096   317.04095573   373.19607238 23621.90427308]\n",
      "R2_train: 0.7592042058163877\n",
      "R2_test: 0.7008929179833459\n",
      "cross validation score: 0.7466852748024613\n"
     ]
    }
   ],
   "source": [
    "X=X.drop(X.columns[[1]] ,axis=1)\n",
    "y=df['expenses']\n",
    "X_train, X_test, y_train,y_test=train_test_split(X,y,test_size=0.2, random_state=9)\n",
    "\n",
    "\n",
    "\n",
    "from sklearn.linear_model import Lasso\n",
    "lasso_base=Lasso(alpha=60)\n",
    "lasso_base.fit(X_train,y_train)\n",
    "print('intercept:', lasso_base.intercept_)\n",
    "print('coef:', lasso_base.coef_)\n",
    "\n",
    "train_prediction= lasso_base.predict(X_train)\n",
    "test_prediction=lasso_base.predict(X_test)\n",
    "\n",
    "print('R2_train:', lasso_base.score(X_train, y_train))\n",
    "print('R2_test:', lasso_base.score(X_test, y_test))\n",
    "\n",
    "from sklearn.model_selection import cross_val_score\n",
    "print('cross validation score:', cross_val_score(lasso_base,X,y,cv=5).mean())\n"
   ]
  },
  {
   "cell_type": "markdown",
   "id": "28b22d5a",
   "metadata": {},
   "source": [
    "# ridge regression"
   ]
  },
  {
   "cell_type": "code",
   "execution_count": 93,
   "id": "1fd908b3",
   "metadata": {},
   "outputs": [],
   "source": [
    "#pd.det_option('display.max_rows',5000)"
   ]
  },
  {
   "cell_type": "code",
   "execution_count": 18,
   "id": "b033104f",
   "metadata": {},
   "outputs": [
    {
     "name": "stdout",
     "output_type": "stream",
     "text": [
      "intercept: -12131.383174500303\n",
      "coef: [  264.4786592   -112.37962155   318.56350557   413.12069122\n",
      " 23853.85951773]\n",
      "R2_train: 0.7593639632162803\n",
      "R2_test: 0.7008629672692219\n",
      "cross validation score: 0.746520309627156\n"
     ]
    }
   ],
   "source": [
    "#ridge regression with defailt parameters\n",
    "\n",
    "from sklearn.linear_model import Ridge\n",
    "ridge_base=Ridge()\n",
    "ridge_base.fit(X_train,y_train)\n",
    "print('intercept:', ridge_base.intercept_)\n",
    "print('coef:', ridge_base.coef_)\n",
    "\n",
    "train_prediction= ridge_base.predict(X_train)\n",
    "test_prediction=ridge_base.predict(X_test)\n",
    "\n",
    "print('R2_train:', ridge_base.score(X_train, y_train))\n",
    "print('R2_test:', ridge_base.score(X_test, y_test))\n",
    "\n",
    "from sklearn.model_selection import cross_val_score\n",
    "print('cross validation score:', cross_val_score(ridge_base,X,y,cv=5).mean())\n"
   ]
  },
  {
   "cell_type": "code",
   "execution_count": 34,
   "id": "f81f598a",
   "metadata": {},
   "outputs": [
    {
     "data": {
      "text/plain": [
       "{'alpha': 0.8999999999999999}"
      ]
     },
     "execution_count": 34,
     "metadata": {},
     "output_type": "execute_result"
    }
   ],
   "source": [
    "from sklearn.model_selection import GridSearchCV\n",
    "\n",
    "#model\n",
    "estimator= Ridge()\n",
    "\n",
    "#parameter\n",
    "param_grid={'alpha':(l)}\n",
    " #identifying the best value of the parameter within given values for the given data\n",
    "\n",
    "model_hp=GridSearchCV( estimator,param_grid,cv=5,scoring='r2')\n",
    "model_hp.fit(X_train,y_train)\n",
    "model_hp.best_params_"
   ]
  },
  {
   "cell_type": "code",
   "execution_count": 35,
   "id": "d38b67e4",
   "metadata": {},
   "outputs": [
    {
     "name": "stdout",
     "output_type": "stream",
     "text": [
      "intercept: -12133.707814265415\n",
      "coef: [  264.48578495  -113.29390313   318.5564332    413.01435521\n",
      " 23867.19630345]\n",
      "R2_train: 0.759367688924302\n",
      "R2_test: 0.7008380259471574\n",
      "cross validation score: 0.7465228120563532\n"
     ]
    }
   ],
   "source": [
    "\n",
    "# rebuild lasso regression with best parameters\n",
    "from sklearn.linear_model import Ridge\n",
    "ridge_base=Ridge(0.8999999999999999)\n",
    "ridge_base.fit(X_train,y_train)\n",
    "print('intercept:', ridge_base.intercept_)\n",
    "print('coef:', ridge_base.coef_)\n",
    "\n",
    "train_prediction= ridge_base.predict(X_train)\n",
    "test_prediction=ridge_base.predict(X_test)\n",
    "\n",
    "print('R2_train:', ridge_base.score(X_train, y_train))\n",
    "print('R2_test:', ridge_base.score(X_test, y_test))\n",
    "\n",
    "from sklearn.model_selection import cross_val_score\n",
    "print('cross validation score:', cross_val_score(ridge_base,X,y,cv=5).mean())\n",
    "\n"
   ]
  },
  {
   "cell_type": "markdown",
   "id": "a7e387ac",
   "metadata": {},
   "source": [
    "#  Elastic NET"
   ]
  },
  {
   "cell_type": "code",
   "execution_count": 18,
   "id": "b288098d",
   "metadata": {},
   "outputs": [
    {
     "name": "stdout",
     "output_type": "stream",
     "text": [
      "intercept: -8521.551099539573\n",
      "coef: [ 254.9425317   354.21968666  328.21030534  444.72779674 6012.2843481 ]\n",
      "R2_train: 0.4040370376357658\n",
      "R2_test: 0.36842833194908864\n",
      "cross validation score: 0.3887681232987844\n"
     ]
    }
   ],
   "source": [
    "#ridge regression with defailt parameters\n",
    "\n",
    "from sklearn.linear_model import ElasticNet\n",
    "enr_base=ElasticNet()\n",
    "enr_base.fit(X_train,y_train)\n",
    "print('intercept:', enr_base.intercept_)\n",
    "print('coef:', enr_base.coef_)\n",
    "\n",
    "train_prediction= enr_base.predict(X_train)\n",
    "test_prediction=enr_base.predict(X_test)\n",
    "\n",
    "print('R2_train:', enr_base.score(X_train, y_train))\n",
    "print('R2_test:', enr_base.score(X_test, y_test))\n",
    "\n",
    "from sklearn.model_selection import cross_val_score\n",
    "print('cross validation score:', cross_val_score(enr_base,X,y,cv=5).mean())\n"
   ]
  },
  {
   "cell_type": "code",
   "execution_count": 20,
   "id": "62e9c48c",
   "metadata": {},
   "outputs": [
    {
     "data": {
      "text/plain": [
       "{'alpha': 60, 'l1_ratio': 1}"
      ]
     },
     "execution_count": 20,
     "metadata": {},
     "output_type": "execute_result"
    }
   ],
   "source": [
    "from sklearn.model_selection import GridSearchCV\n",
    "\n",
    "#model\n",
    "estimator= ElasticNet()\n",
    "\n",
    "#parameter\n",
    "param_grid={'alpha':list(range(1,100)),\n",
    "        'l1_ratio': [0.1,0.2,0.3,0.4,0.5,0.75,0.9,0.95,1]}\n",
    " #identifying the best value of the parameter within given values for the given data\n",
    "\n",
    "model_hp=GridSearchCV( estimator,param_grid,cv=5,scoring='r2')\n",
    "model_hp.fit(X_train,y_train)\n",
    "model_hp.best_params_\n",
    "\n",
    "# A 1 for lasso means it's the best"
   ]
  },
  {
   "cell_type": "code",
   "execution_count": 21,
   "id": "366a7bab",
   "metadata": {},
   "outputs": [
    {
     "name": "stdout",
     "output_type": "stream",
     "text": [
      "intercept: -12045.192067679147\n",
      "coef: [  264.37213484    -0.           317.0408608    373.19599922\n",
      " 23621.90440143]\n",
      "R2_train: 0.7592042059376202\n",
      "R2_test: 0.7008928970688789\n",
      "cross validation score: 0.7466813254014273\n"
     ]
    }
   ],
   "source": [
    "from sklearn.linear_model import ElasticNet\n",
    "enr_base=ElasticNet(alpha=60, l1_ratio=1)\n",
    "enr_base.fit(X_train,y_train)\n",
    "print('intercept:', enr_base.intercept_)\n",
    "print('coef:', enr_base.coef_)\n",
    "\n",
    "train_prediction= enr_base.predict(X_train)\n",
    "test_prediction=enr_base.predict(X_test)\n",
    "\n",
    "print('R2_train:', enr_base.score(X_train, y_train))\n",
    "print('R2_test:', enr_base.score(X_test, y_test))\n",
    "\n",
    "from sklearn.model_selection import cross_val_score\n",
    "print('cross validation score:', cross_val_score(enr_base,X,y,cv=5).mean())\n"
   ]
  },
  {
   "cell_type": "code",
   "execution_count": null,
   "id": "f0422b2e",
   "metadata": {},
   "outputs": [],
   "source": []
  }
 ],
 "metadata": {
  "kernelspec": {
   "display_name": "Python 3 (ipykernel)",
   "language": "python",
   "name": "python3"
  },
  "language_info": {
   "codemirror_mode": {
    "name": "ipython",
    "version": 3
   },
   "file_extension": ".py",
   "mimetype": "text/x-python",
   "name": "python",
   "nbconvert_exporter": "python",
   "pygments_lexer": "ipython3",
   "version": "3.9.7"
  }
 },
 "nbformat": 4,
 "nbformat_minor": 5
}
